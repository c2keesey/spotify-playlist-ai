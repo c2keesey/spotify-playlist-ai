{
 "cells": [
  {
   "cell_type": "code",
   "execution_count": 11,
   "metadata": {},
   "outputs": [],
   "source": [
    "import json\n",
    "from data_utils import *"
   ]
  },
  {
   "cell_type": "code",
   "execution_count": 12,
   "metadata": {},
   "outputs": [],
   "source": [
    "with open('../_data/all_playlists.json') as f:\n",
    "    playlists = json.load(f)"
   ]
  },
  {
   "cell_type": "code",
   "execution_count": 13,
   "metadata": {},
   "outputs": [],
   "source": [
    "min_100 = []\n",
    "for playlist in playlists['playlists']:\n",
    "    if len(playlist['tracks']) >= 100:\n",
    "        min_100.append(playlist)\n",
    "min_100 = {'playlists': min_100}\n",
    "\n",
    "with open('../_data/min_100.json', 'w') as f:\n",
    "    json.dump(min_100, f)"
   ]
  },
  {
   "cell_type": "code",
   "execution_count": 14,
   "metadata": {},
   "outputs": [
    {
     "name": "stdout",
     "output_type": "stream",
     "text": [
      "Playlist Track Counts\n",
      "--------------------\n",
      "To Learn: 149 tracks\n",
      "New: 1289 tracks\n",
      "Colorscapes: 174 tracks\n",
      "🜄 Aeon 1 🜄: 664 tracks\n",
      "⏣ Halcyon: 1124 tracks\n",
      "🜔 Full Chill ⏣: 544 tracks\n",
      "⌬ H2 ⏣: 810 tracks\n",
      "Vantage ⏣ 🜔 ⌬: 350 tracks\n",
      "Awake ⏣ ⌬: 238 tracks\n",
      "Dissolve ⏣ ⌬: 130 tracks\n",
      "Aeon 2 ⏣ ⌬: 120 tracks\n",
      "Horizon ⏣ ⌬: 126 tracks\n",
      "Good Life ⏣ ⌬: 124 tracks\n",
      "🜄 Classic EDM: 335 tracks\n",
      "Countdown 2023: 245 tracks\n",
      "🜂 Pump 🜂: 674 tracks\n",
      "🜂 NECKBREAKERS 🜂: 255 tracks\n",
      "🜂 BOOM: 742 tracks\n",
      "WALK UP LIKE 🜂: 308 tracks\n",
      "Evolution 🜄: 199 tracks\n",
      "Simp DM 🜄: 152 tracks\n",
      "COUNTDOWN 2023: 131 tracks\n",
      "🜁 Supernova: 363 tracks\n",
      "Glitch Mind 🜂🜁: 272 tracks\n",
      "Overclock 🜁: 109 tracks\n",
      "🜃 SubsInstance: 489 tracks\n",
      "Critical Path 🜃: 508 tracks\n",
      "🜍 H: 368 tracks\n",
      "CRANK 🜍🜂: 112 tracks\n",
      "Bump Beats 🜍: 249 tracks\n",
      "Haus: 125 tracks\n",
      "Keep it smooth 🜩: 111 tracks\n",
      "🜊 Hoppin: 203 tracks\n",
      "🜩 Hip bass + kaytranada + r&b  + Keep it smooth : 141 tracks\n",
      "RHCP: 107 tracks\n",
      "Ain't Noise Pollution: 363 tracks\n",
      "🝓☉ Alt n shit ☉🝓: 151 tracks\n",
      "🜻 Chef Up: 118 tracks\n",
      "Reggae: 127 tracks\n",
      "☉ Pacific: 397 tracks\n",
      "Indie: 308 tracks\n",
      "Creekwalk: 310 tracks\n",
      "Chill/Solo Guitar: 207 tracks\n",
      "LoFi ⏣ 🜔 : 227 tracks\n",
      "☿gone beyond going☿: 104 tracks\n",
      "Ur in everything I see: 240 tracks\n",
      "Talking fast: 148 tracks\n",
      "EDC EDC: 122 tracks\n",
      "South Bay Summer: 296 tracks\n",
      "Slopes 3.0: 433 tracks\n",
      "Slopes 3.0: 433 tracks\n",
      "Archive: 316 tracks\n",
      "Throwback EDM: 166 tracks\n",
      "All da EDM: 281 tracks\n",
      "OUTSIDELANDS: 100 tracks\n",
      "Bromance: 202 tracks\n",
      "Rediscover: 742 tracks\n",
      "My Shazam Tracks: 108 tracks\n",
      "--------------------\n",
      "Total playlists: 58\n"
     ]
    }
   ],
   "source": [
    "print_playlist_track_counts('../_data/min_100.json')"
   ]
  },
  {
   "cell_type": "code",
   "execution_count": 16,
   "metadata": {},
   "outputs": [],
   "source": [
    "main_set_names = [\n",
    "    \"Vantage ⏣ 🜔 ⌬\",\n",
    "    \"Awake ⏣ ⌬\",\n",
    "    \"Dissolve ⏣ ⌬\",\n",
    "    \"Aeon 2 ⏣ ⌬\",\n",
    "    \"Horizon ⏣ ⌬\",\n",
    "    \"Good Life ⏣ ⌬\",\n",
    "    \"WALK UP LIKE 🜂\",\n",
    "    \"Evolution 🜄\",\n",
    "    \"Simp DM 🜄\",\n",
    "    \"Glitch Mind 🜂🜁\",\n",
    "    \"Overclock 🜁\",\n",
    "    \"Critical Path 🜃\",\n",
    "    \"CRANK 🜍🜂\",\n",
    "    \"Bump Beats 🜍\",\n",
    "    \"Keep it smooth 🜩\",\n",
    "    \"🜊 Hoppin\",\n",
    "    \"Ain't Noise Pollution\",\n",
    "    \"🝓☉ Alt n shit ☉🝓\",\n",
    "    \"🜻 Chef Up\",\n",
    "    \"Reggae\",\n",
    "    \"☉ Pacific\",\n",
    "    \"Indie\",\n",
    "    \"Creekwalk\",\n",
    "    \"Chill/Solo Guitar\",\n",
    "    \"LoFi ⏣ 🜔\",\n",
    "    \"☿gone beyond going☿\"\n",
    "]"
   ]
  },
  {
   "cell_type": "code",
   "execution_count": 17,
   "metadata": {},
   "outputs": [],
   "source": [
    "main_set = []\n",
    "for playlist in playlists['playlists']:\n",
    "    if len(playlist['tracks']) >= 100 and playlist['name'] in main_set_names:\n",
    "        main_set.append(playlist)\n",
    "main_set = {'playlists': main_set}\n",
    "\n",
    "with open('../_data/main_set.json', 'w') as f:\n",
    "    json.dump(main_set, f)"
   ]
  },
  {
   "cell_type": "code",
   "execution_count": 18,
   "metadata": {},
   "outputs": [
    {
     "name": "stdout",
     "output_type": "stream",
     "text": [
      "Playlist Track Counts\n",
      "--------------------\n",
      "Vantage ⏣ 🜔 ⌬: 350 tracks\n",
      "Awake ⏣ ⌬: 238 tracks\n",
      "Dissolve ⏣ ⌬: 130 tracks\n",
      "Aeon 2 ⏣ ⌬: 120 tracks\n",
      "Horizon ⏣ ⌬: 126 tracks\n",
      "Good Life ⏣ ⌬: 124 tracks\n",
      "WALK UP LIKE 🜂: 308 tracks\n",
      "Evolution 🜄: 199 tracks\n",
      "Simp DM 🜄: 152 tracks\n",
      "Glitch Mind 🜂🜁: 272 tracks\n",
      "Overclock 🜁: 109 tracks\n",
      "Critical Path 🜃: 508 tracks\n",
      "CRANK 🜍🜂: 112 tracks\n",
      "Bump Beats 🜍: 249 tracks\n",
      "Keep it smooth 🜩: 111 tracks\n",
      "🜊 Hoppin: 203 tracks\n",
      "Ain't Noise Pollution: 363 tracks\n",
      "🝓☉ Alt n shit ☉🝓: 151 tracks\n",
      "🜻 Chef Up: 118 tracks\n",
      "Reggae: 127 tracks\n",
      "☉ Pacific: 397 tracks\n",
      "Indie: 308 tracks\n",
      "Creekwalk: 310 tracks\n",
      "Chill/Solo Guitar: 207 tracks\n",
      "☿gone beyond going☿: 104 tracks\n",
      "--------------------\n",
      "Total playlists: 25\n"
     ]
    }
   ],
   "source": [
    "print_playlist_track_counts('../_data/main_set.json')"
   ]
  },
  {
   "cell_type": "code",
   "execution_count": 19,
   "metadata": {},
   "outputs": [],
   "source": [
    "super_set_names = [\n",
    "    \"⏣ Halcyon\",\n",
    "    \"🜔 Full Chill ⏣\",\n",
    "    \"🜄 Classic EDM\",\n",
    "    \"🜂 BOOM\",\n",
    "    \"🜁 Supernova\",\n",
    "    \"🜃 SubsInstance\",\n",
    "    \"🜍 H\",\n",
    "    \"🜊 Hoppin\",\n",
    "    \"Ain't Noise Pollution\",\n",
    "    \"Reggae\",\n",
    "    \"☉ Pacific\",\n",
    "    \"Indie\",\n",
    "    \"Creekwalk\",\n",
    "    \"Chill/Solo Guitar\",\n",
    "    \"☿gone beyond going☿\"\n",
    "]"
   ]
  },
  {
   "cell_type": "code",
   "execution_count": 20,
   "metadata": {},
   "outputs": [],
   "source": [
    "main_set = []\n",
    "for playlist in playlists['playlists']:\n",
    "    if len(playlist['tracks']) >= 100 and playlist['name'] in super_set_names:\n",
    "        main_set.append(playlist)\n",
    "main_set = {'playlists': main_set}\n",
    "\n",
    "with open('../_data/super_set_names.json', 'w') as f:\n",
    "    json.dump(main_set, f)"
   ]
  },
  {
   "cell_type": "code",
   "execution_count": 21,
   "metadata": {},
   "outputs": [
    {
     "name": "stdout",
     "output_type": "stream",
     "text": [
      "Playlist Track Counts\n",
      "--------------------\n",
      "⏣ Halcyon: 1124 tracks\n",
      "🜔 Full Chill ⏣: 544 tracks\n",
      "🜄 Classic EDM: 335 tracks\n",
      "🜂 BOOM: 742 tracks\n",
      "🜁 Supernova: 363 tracks\n",
      "🜃 SubsInstance: 489 tracks\n",
      "🜍 H: 368 tracks\n",
      "🜊 Hoppin: 203 tracks\n",
      "Ain't Noise Pollution: 363 tracks\n",
      "Reggae: 127 tracks\n",
      "☉ Pacific: 397 tracks\n",
      "Indie: 308 tracks\n",
      "Creekwalk: 310 tracks\n",
      "Chill/Solo Guitar: 207 tracks\n",
      "☿gone beyond going☿: 104 tracks\n",
      "--------------------\n",
      "Total playlists: 15\n"
     ]
    }
   ],
   "source": [
    "print_playlist_track_counts('../_data/super_set_names.json')"
   ]
  },
  {
   "cell_type": "code",
   "execution_count": null,
   "metadata": {},
   "outputs": [],
   "source": []
  }
 ],
 "metadata": {
  "kernelspec": {
   "display_name": "venv",
   "language": "python",
   "name": "python3"
  },
  "language_info": {
   "codemirror_mode": {
    "name": "ipython",
    "version": 3
   },
   "file_extension": ".py",
   "mimetype": "text/x-python",
   "name": "python",
   "nbconvert_exporter": "python",
   "pygments_lexer": "ipython3",
   "version": "3.12.1"
  }
 },
 "nbformat": 4,
 "nbformat_minor": 2
}
